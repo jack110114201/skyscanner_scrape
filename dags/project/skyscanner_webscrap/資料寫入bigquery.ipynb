{
 "cells": [
  {
   "cell_type": "code",
   "execution_count": 1,
   "id": "12eb3fa1-3dc3-41db-8ec7-0fb572c4bfbe",
   "metadata": {
    "scrolled": true
   },
   "outputs": [
    {
     "name": "stdout",
     "output_type": "stream",
     "text": [
      "Collecting google-cloud-bigquery\n",
      "  Downloading google_cloud_bigquery-3.11.4-py2.py3-none-any.whl (219 kB)\n",
      "\u001b[2K     \u001b[90m━━━━━━━━━━━━━━━━━━━━━━━━━━━━━━━━━━━━━\u001b[0m \u001b[32m219.6/219.6 kB\u001b[0m \u001b[31m265.2 kB/s\u001b[0m eta \u001b[36m0:00:00\u001b[0ma \u001b[36m0:00:01\u001b[0m\n",
      "\u001b[?25hCollecting grpcio<2.0dev,>=1.47.0 (from google-cloud-bigquery)\n",
      "  Downloading grpcio-1.56.2-cp39-cp39-manylinux_2_17_x86_64.manylinux2014_x86_64.whl (5.2 MB)\n",
      "\u001b[2K     \u001b[90m━━━━━━━━━━━━━━━━━━━━━━━━━━━━━━━━━━━━━━━━\u001b[0m \u001b[32m5.2/5.2 MB\u001b[0m \u001b[31m570.8 kB/s\u001b[0m eta \u001b[36m0:00:00\u001b[0m00:01\u001b[0m00:01\u001b[0m\n",
      "\u001b[?25hCollecting google-api-core[grpc]!=2.0.*,!=2.1.*,!=2.2.*,!=2.3.0,<3.0.0dev,>=1.31.5 (from google-cloud-bigquery)\n",
      "  Downloading google_api_core-2.11.1-py3-none-any.whl (120 kB)\n",
      "\u001b[2K     \u001b[90m━━━━━━━━━━━━━━━━━━━━━━━━━━━━━━━━━━━━━\u001b[0m \u001b[32m120.5/120.5 kB\u001b[0m \u001b[31m590.5 kB/s\u001b[0m eta \u001b[36m0:00:00\u001b[0ma \u001b[36m0:00:01\u001b[0m\n",
      "\u001b[?25hCollecting proto-plus<2.0.0dev,>=1.15.0 (from google-cloud-bigquery)\n",
      "  Downloading proto_plus-1.22.3-py3-none-any.whl (48 kB)\n",
      "\u001b[2K     \u001b[90m━━━━━━━━━━━━━━━━━━━━━━━━━━━━━━━━━━━━━━━\u001b[0m \u001b[32m48.1/48.1 kB\u001b[0m \u001b[31m877.4 kB/s\u001b[0m eta \u001b[36m0:00:00\u001b[0m \u001b[36m0:00:01\u001b[0m\n",
      "\u001b[?25hCollecting google-cloud-core<3.0.0dev,>=1.6.0 (from google-cloud-bigquery)\n",
      "  Downloading google_cloud_core-2.3.3-py2.py3-none-any.whl (29 kB)\n",
      "Collecting google-resumable-media<3.0dev,>=0.6.0 (from google-cloud-bigquery)\n",
      "  Downloading google_resumable_media-2.5.0-py2.py3-none-any.whl (77 kB)\n",
      "\u001b[2K     \u001b[90m━━━━━━━━━━━━━━━━━━━━━━━━━━━━━━━━━━━━━━━\u001b[0m \u001b[32m77.7/77.7 kB\u001b[0m \u001b[31m723.8 kB/s\u001b[0m eta \u001b[36m0:00:00\u001b[0ma \u001b[36m0:00:01\u001b[0m\n",
      "\u001b[?25hRequirement already satisfied: packaging>=20.0.0 in /home/weiche/anaconda3/envs/web_scrap/lib/python3.9/site-packages (from google-cloud-bigquery) (23.1)\n",
      "Collecting protobuf!=3.20.0,!=3.20.1,!=4.21.0,!=4.21.1,!=4.21.2,!=4.21.3,!=4.21.4,!=4.21.5,<5.0.0dev,>=3.19.5 (from google-cloud-bigquery)\n",
      "  Downloading protobuf-4.23.4-cp37-abi3-manylinux2014_x86_64.whl (304 kB)\n",
      "\u001b[2K     \u001b[90m━━━━━━━━━━━━━━━━━━━━━━━━━━━━━━━━━━━━━\u001b[0m \u001b[32m304.5/304.5 kB\u001b[0m \u001b[31m571.8 kB/s\u001b[0m eta \u001b[36m0:00:00\u001b[0ma \u001b[36m0:00:01\u001b[0m\n",
      "\u001b[?25hRequirement already satisfied: python-dateutil<3.0dev,>=2.7.2 in /home/weiche/anaconda3/envs/web_scrap/lib/python3.9/site-packages (from google-cloud-bigquery) (2.8.2)\n",
      "Requirement already satisfied: requests<3.0.0dev,>=2.21.0 in /home/weiche/anaconda3/envs/web_scrap/lib/python3.9/site-packages (from google-cloud-bigquery) (2.31.0)\n",
      "Collecting googleapis-common-protos<2.0.dev0,>=1.56.2 (from google-api-core[grpc]!=2.0.*,!=2.1.*,!=2.2.*,!=2.3.0,<3.0.0dev,>=1.31.5->google-cloud-bigquery)\n",
      "  Downloading googleapis_common_protos-1.60.0-py2.py3-none-any.whl (227 kB)\n",
      "\u001b[2K     \u001b[90m━━━━━━━━━━━━━━━━━━━━━━━━━━━━━━━━━━━━━\u001b[0m \u001b[32m227.6/227.6 kB\u001b[0m \u001b[31m778.2 kB/s\u001b[0m eta \u001b[36m0:00:00\u001b[0ma \u001b[36m0:00:01\u001b[0m\n",
      "\u001b[?25hCollecting google-auth<3.0.dev0,>=2.14.1 (from google-api-core[grpc]!=2.0.*,!=2.1.*,!=2.2.*,!=2.3.0,<3.0.0dev,>=1.31.5->google-cloud-bigquery)\n",
      "  Downloading google_auth-2.22.0-py2.py3-none-any.whl (181 kB)\n",
      "\u001b[2K     \u001b[90m━━━━━━━━━━━━━━━━━━━━━━━━━━━━━━━━━━━━━\u001b[0m \u001b[32m181.8/181.8 kB\u001b[0m \u001b[31m709.7 kB/s\u001b[0m eta \u001b[36m0:00:00\u001b[0ma \u001b[36m0:00:01\u001b[0m\n",
      "\u001b[?25hCollecting grpcio-status<2.0.dev0,>=1.33.2 (from google-api-core[grpc]!=2.0.*,!=2.1.*,!=2.2.*,!=2.3.0,<3.0.0dev,>=1.31.5->google-cloud-bigquery)\n",
      "  Downloading grpcio_status-1.56.2-py3-none-any.whl (5.1 kB)\n",
      "Collecting google-crc32c<2.0dev,>=1.0 (from google-resumable-media<3.0dev,>=0.6.0->google-cloud-bigquery)\n",
      "  Downloading google_crc32c-1.5.0-cp39-cp39-manylinux_2_17_x86_64.manylinux2014_x86_64.whl (32 kB)\n",
      "Requirement already satisfied: six>=1.5 in /home/weiche/anaconda3/envs/web_scrap/lib/python3.9/site-packages (from python-dateutil<3.0dev,>=2.7.2->google-cloud-bigquery) (1.16.0)\n",
      "Requirement already satisfied: charset-normalizer<4,>=2 in /home/weiche/anaconda3/envs/web_scrap/lib/python3.9/site-packages (from requests<3.0.0dev,>=2.21.0->google-cloud-bigquery) (3.1.0)\n",
      "Requirement already satisfied: idna<4,>=2.5 in /home/weiche/anaconda3/envs/web_scrap/lib/python3.9/site-packages (from requests<3.0.0dev,>=2.21.0->google-cloud-bigquery) (3.4)\n",
      "Requirement already satisfied: urllib3<3,>=1.21.1 in /home/weiche/anaconda3/envs/web_scrap/lib/python3.9/site-packages (from requests<3.0.0dev,>=2.21.0->google-cloud-bigquery) (2.0.3)\n",
      "Requirement already satisfied: certifi>=2017.4.17 in /home/weiche/anaconda3/envs/web_scrap/lib/python3.9/site-packages (from requests<3.0.0dev,>=2.21.0->google-cloud-bigquery) (2023.5.7)\n",
      "Collecting cachetools<6.0,>=2.0.0 (from google-auth<3.0.dev0,>=2.14.1->google-api-core[grpc]!=2.0.*,!=2.1.*,!=2.2.*,!=2.3.0,<3.0.0dev,>=1.31.5->google-cloud-bigquery)\n",
      "  Downloading cachetools-5.3.1-py3-none-any.whl (9.3 kB)\n",
      "Collecting pyasn1-modules>=0.2.1 (from google-auth<3.0.dev0,>=2.14.1->google-api-core[grpc]!=2.0.*,!=2.1.*,!=2.2.*,!=2.3.0,<3.0.0dev,>=1.31.5->google-cloud-bigquery)\n",
      "  Downloading pyasn1_modules-0.3.0-py2.py3-none-any.whl (181 kB)\n",
      "\u001b[2K     \u001b[90m━━━━━━━━━━━━━━━━━━━━━━━━━━━━━━━━━━━━━\u001b[0m \u001b[32m181.3/181.3 kB\u001b[0m \u001b[31m534.3 kB/s\u001b[0m eta \u001b[36m0:00:00\u001b[0ma \u001b[36m0:00:01\u001b[0m\n",
      "\u001b[?25hCollecting rsa<5,>=3.1.4 (from google-auth<3.0.dev0,>=2.14.1->google-api-core[grpc]!=2.0.*,!=2.1.*,!=2.2.*,!=2.3.0,<3.0.0dev,>=1.31.5->google-cloud-bigquery)\n",
      "  Downloading rsa-4.9-py3-none-any.whl (34 kB)\n",
      "Collecting urllib3<3,>=1.21.1 (from requests<3.0.0dev,>=2.21.0->google-cloud-bigquery)\n",
      "  Downloading urllib3-1.26.16-py2.py3-none-any.whl (143 kB)\n",
      "\u001b[2K     \u001b[90m━━━━━━━━━━━━━━━━━━━━━━━━━━━━━━━━━━━━━\u001b[0m \u001b[32m143.1/143.1 kB\u001b[0m \u001b[31m520.4 kB/s\u001b[0m eta \u001b[36m0:00:00\u001b[0ma \u001b[36m0:00:01\u001b[0m\n",
      "\u001b[?25hCollecting pyasn1<0.6.0,>=0.4.6 (from pyasn1-modules>=0.2.1->google-auth<3.0.dev0,>=2.14.1->google-api-core[grpc]!=2.0.*,!=2.1.*,!=2.2.*,!=2.3.0,<3.0.0dev,>=1.31.5->google-cloud-bigquery)\n",
      "  Downloading pyasn1-0.5.0-py2.py3-none-any.whl (83 kB)\n",
      "\u001b[2K     \u001b[90m━━━━━━━━━━━━━━━━━━━━━━━━━━━━━━━━━━━━━━━\u001b[0m \u001b[32m83.9/83.9 kB\u001b[0m \u001b[31m895.9 kB/s\u001b[0m eta \u001b[36m0:00:00\u001b[0ma \u001b[36m0:00:01\u001b[0m\n",
      "\u001b[?25hInstalling collected packages: urllib3, pyasn1, protobuf, grpcio, google-crc32c, cachetools, rsa, pyasn1-modules, proto-plus, googleapis-common-protos, google-resumable-media, grpcio-status, google-auth, google-api-core, google-cloud-core, google-cloud-bigquery\n",
      "  Attempting uninstall: urllib3\n",
      "    Found existing installation: urllib3 2.0.3\n",
      "    Uninstalling urllib3-2.0.3:\n",
      "      Successfully uninstalled urllib3-2.0.3\n",
      "Successfully installed cachetools-5.3.1 google-api-core-2.11.1 google-auth-2.22.0 google-cloud-bigquery-3.11.4 google-cloud-core-2.3.3 google-crc32c-1.5.0 google-resumable-media-2.5.0 googleapis-common-protos-1.60.0 grpcio-1.56.2 grpcio-status-1.56.2 proto-plus-1.22.3 protobuf-4.23.4 pyasn1-0.5.0 pyasn1-modules-0.3.0 rsa-4.9 urllib3-1.26.16\n"
     ]
    }
   ],
   "source": [
    "!pip install google-cloud-bigquery"
   ]
  },
  {
   "cell_type": "markdown",
   "id": "04e04bb6-8083-46a8-86db-e7487cb7f3dc",
   "metadata": {},
   "source": [
    "## csv to bigquery\n",
    "-- 參考: https://estuary.dev/csv-to-bigquery/"
   ]
  },
  {
   "cell_type": "code",
   "execution_count": 41,
   "id": "ddaee132-5955-42b4-8b81-61ae01a3ae38",
   "metadata": {},
   "outputs": [],
   "source": [
    "from google.cloud import bigquery\n",
    "import os\n",
    "\n",
    "class BigQueryLoader:\n",
    "    def __init__(self):\n",
    "        self.dataset_name = 'pdata'\n",
    "        self.table_name = None\n",
    "        self.schema_setting = None\n",
    "        os.environ[\"GOOGLE_APPLICATION_CREDENTIALS\"] = \"./config/skyscannerweb-3dc95bba3ffb.json\"\n",
    "        self.client = bigquery.Client()\n",
    "    def set_table_schema(self, table_name, schema_setting):\n",
    "        self.table_name = table_name\n",
    "        self.schema_setting = schema_setting\n",
    "        self.table_ref = self.client.dataset(self.dataset_name).table(self.table_name)\n",
    "        self.job_config = bigquery.LoadJobConfig(**self.schema_setting)\n",
    "    def load_data_from_csv(self, file_path):\n",
    "        if self.table_name is None or self.schema_setting is None:\n",
    "            raise ValueError(\"Table name and schema setting must be set before loading data.\")\n",
    "        with open(file_path, 'rb') as source_file:\n",
    "            job = self.client.load_table_from_file(source_file, self.table_ref, job_config=self.job_config)\n",
    "            job.result()  # Wait for the job to complete\n",
    "            print('Done')\n",
    "if __name__ == '__main__':\n",
    "    BigQueryLoader()"
   ]
  },
  {
   "cell_type": "code",
   "execution_count": 9,
   "id": "86a0f3b0-1958-479e-8086-54e553443620",
   "metadata": {},
   "outputs": [
    {
     "name": "stdout",
     "output_type": "stream",
     "text": [
      "最新創建的flight_price檔案是: flight_price_20230803154719.csv\n",
      "Done\n",
      "最新創建的flight_memo檔案是: flight_memo_20230803154719.csv\n",
      "Done\n",
      "最新創建的go_plan檔案是: go_plan_20230803154719.csv\n",
      "Done\n"
     ]
    }
   ],
   "source": [
    "import os\n",
    "from tools.data_importer import BigQueryLoader\n",
    "from config.bigquery_config import schema_setting\n",
    "\n",
    "def get_latest_file_path(prefix, folder):\n",
    "    files = [f for f in os.listdir(folder) if f.startswith(prefix)]\n",
    "    latest_file = sorted(files, key=lambda x: os.path.getmtime(os.path.join(folder, x)), reverse=True)[0]\n",
    "    print(f\"最新創建的{prefix}檔案是: {latest_file}\")\n",
    "    return os.path.join(folder, latest_file)\n",
    "\n",
    "def load_data_to_bigquery(table_name, schema, data_path):\n",
    "    loader = BigQueryLoader()\n",
    "    loader.set_table_schema(table_name, schema)\n",
    "    loader.load_data_from_csv(data_path)\n",
    "    \n",
    "if __name__ == \"__main__\":\n",
    "    main_path = os.getcwd()  # 程式所在的目錄路徑\n",
    "    data_path = 'data'\n",
    "    combine_path = os.path.join(main_path, data_path)  # 檔案所在的目錄路徑\n",
    "\n",
    "    # flight_price\n",
    "    table_name_flight_price = 'flight_price'\n",
    "    flight_price_prefix = \"flight_price\"  # 檔案名稱前綴\n",
    "    flight_price_data_path = get_latest_file_path(flight_price_prefix, combine_path)\n",
    "    load_data_to_bigquery(table_name_flight_price, schema_setting['flight_price'], flight_price_data_path)\n",
    "\n",
    "    # flight_memo\n",
    "    table_name_flight_memo = 'flight_memo'\n",
    "    flight_memo_prefix = \"flight_memo\"  # 檔案名稱前綴\n",
    "    flight_memo_data_path = get_latest_file_path(flight_memo_prefix, combine_path)\n",
    "    load_data_to_bigquery(table_name_flight_memo, schema_setting['memo'], flight_memo_data_path)\n",
    "\n",
    "    # flight_go_plan\n",
    "    table_name_flight_go_plan = 'flight_go_plan'\n",
    "    flight_go_plan_prefix = \"go_plan\"  # 檔案名稱前綴\n",
    "    flight_go_plan_data_path = get_latest_file_path(flight_go_plan_prefix, combine_path)\n",
    "    load_data_to_bigquery(table_name_flight_go_plan, schema_setting['flight_go_plan'], flight_go_plan_data_path)"
   ]
  },
  {
   "cell_type": "code",
   "execution_count": null,
   "id": "b54a48ee-2c54-41d9-b5d3-c2e39a448ad5",
   "metadata": {},
   "outputs": [],
   "source": []
  }
 ],
 "metadata": {
  "kernelspec": {
   "display_name": "Python 3 (ipykernel)",
   "language": "python",
   "name": "python3"
  },
  "language_info": {
   "codemirror_mode": {
    "name": "ipython",
    "version": 3
   },
   "file_extension": ".py",
   "mimetype": "text/x-python",
   "name": "python",
   "nbconvert_exporter": "python",
   "pygments_lexer": "ipython3",
   "version": "3.9.16"
  }
 },
 "nbformat": 4,
 "nbformat_minor": 5
}
